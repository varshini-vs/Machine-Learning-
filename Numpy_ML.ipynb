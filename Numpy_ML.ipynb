{
  "cells": [
    {
      "cell_type": "code",
      "execution_count": null,
      "id": "df5a089b",
      "metadata": {
        "id": "df5a089b"
      },
      "outputs": [],
      "source": [
        "import numpy as np"
      ]
    },
    {
      "cell_type": "markdown",
      "source": [
        "Creating numpy arrays"
      ],
      "metadata": {
        "id": "h4pRoqBd-rM9"
      },
      "id": "h4pRoqBd-rM9"
    },
    {
      "cell_type": "code",
      "execution_count": null,
      "id": "00893d1d",
      "metadata": {
        "colab": {
          "base_uri": "https://localhost:8080/"
        },
        "id": "00893d1d",
        "outputId": "51a77f87-95e1-4b6d-fcb3-2f09ff1bae4f"
      },
      "outputs": [
        {
          "output_type": "execute_result",
          "data": {
            "text/plain": [
              "[1, 2, 3]"
            ]
          },
          "metadata": {},
          "execution_count": 6
        }
      ],
      "source": [
        "my_list = [1,2,3]\n",
        "my_list"
      ]
    },
    {
      "cell_type": "code",
      "execution_count": null,
      "id": "c4c56913",
      "metadata": {
        "colab": {
          "base_uri": "https://localhost:8080/"
        },
        "id": "c4c56913",
        "outputId": "7cb9183a-5f13-456f-e941-1526f009650d"
      },
      "outputs": [
        {
          "output_type": "execute_result",
          "data": {
            "text/plain": [
              "array([1, 2, 3])"
            ]
          },
          "metadata": {},
          "execution_count": 7
        }
      ],
      "source": [
        "np.array(my_list)"
      ]
    },
    {
      "cell_type": "code",
      "execution_count": null,
      "id": "60c7835a",
      "metadata": {
        "colab": {
          "base_uri": "https://localhost:8080/"
        },
        "id": "60c7835a",
        "outputId": "da4e5897-87ca-4567-d9cc-6342f277dd5e"
      },
      "outputs": [
        {
          "output_type": "execute_result",
          "data": {
            "text/plain": [
              "[[1, 2], [3, 4], [5, 6]]"
            ]
          },
          "metadata": {},
          "execution_count": 8
        }
      ],
      "source": [
        "n_list = [[1,2],[3,4],[5,6]]\n",
        "n_list"
      ]
    },
    {
      "cell_type": "code",
      "execution_count": null,
      "id": "71c6cdaf",
      "metadata": {
        "colab": {
          "base_uri": "https://localhost:8080/"
        },
        "id": "71c6cdaf",
        "outputId": "725b13bf-8a29-41e5-903c-52f87aa71007"
      },
      "outputs": [
        {
          "output_type": "execute_result",
          "data": {
            "text/plain": [
              "array([[1, 2],\n",
              "       [3, 4],\n",
              "       [5, 6]])"
            ]
          },
          "metadata": {},
          "execution_count": 9
        }
      ],
      "source": [
        "np.array(n_list)"
      ]
    },
    {
      "cell_type": "markdown",
      "source": [
        "Built-in methods"
      ],
      "metadata": {
        "id": "h54WkoTxAep1"
      },
      "id": "h54WkoTxAep1"
    },
    {
      "cell_type": "code",
      "execution_count": null,
      "id": "e666c1ac",
      "metadata": {
        "colab": {
          "base_uri": "https://localhost:8080/"
        },
        "id": "e666c1ac",
        "outputId": "801b0ebd-8a37-4b9b-88cb-30b323e13a96"
      },
      "outputs": [
        {
          "output_type": "execute_result",
          "data": {
            "text/plain": [
              "array([0, 1, 2, 3, 4, 5, 6, 7, 8, 9])"
            ]
          },
          "metadata": {},
          "execution_count": 10
        }
      ],
      "source": [
        "np.arange(0,10)"
      ]
    },
    {
      "cell_type": "code",
      "execution_count": null,
      "id": "742ea4c4",
      "metadata": {
        "colab": {
          "base_uri": "https://localhost:8080/"
        },
        "id": "742ea4c4",
        "outputId": "c5411798-febb-4879-8997-2fcb6837a8b5"
      },
      "outputs": [
        {
          "output_type": "execute_result",
          "data": {
            "text/plain": [
              "array([  0,   4,   8,  12,  16,  20,  24,  28,  32,  36,  40,  44,  48,\n",
              "        52,  56,  60,  64,  68,  72,  76,  80,  84,  88,  92,  96, 100,\n",
              "       104, 108])"
            ]
          },
          "metadata": {},
          "execution_count": 11
        }
      ],
      "source": [
        "np.arange(0,110,4)"
      ]
    },
    {
      "cell_type": "code",
      "execution_count": null,
      "id": "63d48891",
      "metadata": {
        "colab": {
          "base_uri": "https://localhost:8080/"
        },
        "id": "63d48891",
        "outputId": "cb4075b8-4e47-4c35-a588-987fd20f2fd1"
      },
      "outputs": [
        {
          "output_type": "execute_result",
          "data": {
            "text/plain": [
              "array([ 0,  1,  2,  3,  4,  5,  6,  7,  8,  9, 10, 11, 12, 13, 14, 15, 16,\n",
              "       17, 18, 19, 20, 21, 22, 23, 24, 25, 26, 27, 28, 29])"
            ]
          },
          "metadata": {},
          "execution_count": 12
        }
      ],
      "source": [
        "np.arange(30)"
      ]
    },
    {
      "cell_type": "code",
      "execution_count": null,
      "id": "8a94e91d",
      "metadata": {
        "colab": {
          "base_uri": "https://localhost:8080/"
        },
        "id": "8a94e91d",
        "outputId": "6a28e804-35af-442d-cd6b-576c7c54d435"
      },
      "outputs": [
        {
          "output_type": "execute_result",
          "data": {
            "text/plain": [
              "array([100, 107, 114, 121, 128, 135, 142, 149])"
            ]
          },
          "metadata": {},
          "execution_count": 13
        }
      ],
      "source": [
        "np.arange(100,150,7)"
      ]
    },
    {
      "cell_type": "code",
      "execution_count": null,
      "id": "55f8e5c8",
      "metadata": {
        "colab": {
          "base_uri": "https://localhost:8080/"
        },
        "id": "55f8e5c8",
        "outputId": "1e14acf9-cde8-44ce-8589-6bb704b5b4d5"
      },
      "outputs": [
        {
          "output_type": "execute_result",
          "data": {
            "text/plain": [
              "array([100, 105, 110, 115, 120, 125, 130, 135, 140, 145])"
            ]
          },
          "metadata": {},
          "execution_count": 14
        }
      ],
      "source": [
        "np.arange(100,150,5)"
      ]
    },
    {
      "cell_type": "markdown",
      "source": [
        "zeroes and ones"
      ],
      "metadata": {
        "id": "F59q5GjvAv2y"
      },
      "id": "F59q5GjvAv2y"
    },
    {
      "cell_type": "code",
      "execution_count": null,
      "id": "ef44b3f7",
      "metadata": {
        "colab": {
          "base_uri": "https://localhost:8080/"
        },
        "id": "ef44b3f7",
        "outputId": "f0214093-4730-4266-9fd5-17326be99f8c"
      },
      "outputs": [
        {
          "output_type": "execute_result",
          "data": {
            "text/plain": [
              "array([0., 0., 0.])"
            ]
          },
          "metadata": {},
          "execution_count": 15
        }
      ],
      "source": [
        "np.zeros(3)"
      ]
    },
    {
      "cell_type": "code",
      "execution_count": null,
      "id": "407a4d82",
      "metadata": {
        "colab": {
          "base_uri": "https://localhost:8080/"
        },
        "id": "407a4d82",
        "outputId": "ab60d77d-9a2e-4661-f8c5-f5a64f33ddb3"
      },
      "outputs": [
        {
          "output_type": "execute_result",
          "data": {
            "text/plain": [
              "array([[0., 0., 0., 0., 0.],\n",
              "       [0., 0., 0., 0., 0.],\n",
              "       [0., 0., 0., 0., 0.],\n",
              "       [0., 0., 0., 0., 0.],\n",
              "       [0., 0., 0., 0., 0.]])"
            ]
          },
          "metadata": {},
          "execution_count": 16
        }
      ],
      "source": [
        "np.zeros((5,5))"
      ]
    },
    {
      "cell_type": "code",
      "execution_count": null,
      "id": "926102de",
      "metadata": {
        "colab": {
          "base_uri": "https://localhost:8080/"
        },
        "id": "926102de",
        "outputId": "b4712d69-53d1-46e1-9538-96bb0bfeec33"
      },
      "outputs": [
        {
          "output_type": "execute_result",
          "data": {
            "text/plain": [
              "array([1., 1., 1., 1., 1.])"
            ]
          },
          "metadata": {},
          "execution_count": 17
        }
      ],
      "source": [
        "np.ones(5)"
      ]
    },
    {
      "cell_type": "code",
      "execution_count": null,
      "id": "6c29b107",
      "metadata": {
        "colab": {
          "base_uri": "https://localhost:8080/"
        },
        "id": "6c29b107",
        "outputId": "be23cadf-84c7-4147-a4d4-8aac5b692c70"
      },
      "outputs": [
        {
          "output_type": "execute_result",
          "data": {
            "text/plain": [
              "array([[1., 1., 1.],\n",
              "       [1., 1., 1.],\n",
              "       [1., 1., 1.]])"
            ]
          },
          "metadata": {},
          "execution_count": 18
        }
      ],
      "source": [
        "np.ones((3,3))"
      ]
    },
    {
      "cell_type": "markdown",
      "source": [
        "Linspace"
      ],
      "metadata": {
        "id": "x8ExuiQwAy0n"
      },
      "id": "x8ExuiQwAy0n"
    },
    {
      "cell_type": "code",
      "execution_count": null,
      "id": "c1778c60",
      "metadata": {
        "colab": {
          "base_uri": "https://localhost:8080/"
        },
        "id": "c1778c60",
        "outputId": "a0ac5fcd-3215-4280-d047-8f747deb7d4a"
      },
      "outputs": [
        {
          "output_type": "execute_result",
          "data": {
            "text/plain": [
              "array([  0. ,  27.5,  55. ,  82.5, 110. ])"
            ]
          },
          "metadata": {},
          "execution_count": 19
        }
      ],
      "source": [
        "np.linspace(0,110,5)"
      ]
    },
    {
      "cell_type": "code",
      "execution_count": null,
      "id": "4266029c",
      "metadata": {
        "colab": {
          "base_uri": "https://localhost:8080/"
        },
        "id": "4266029c",
        "outputId": "5940d39b-34a0-4d50-df8f-6f0cbf8a871b"
      },
      "outputs": [
        {
          "output_type": "execute_result",
          "data": {
            "text/plain": [
              "array([ 0.        ,  0.1010101 ,  0.2020202 ,  0.3030303 ,  0.4040404 ,\n",
              "        0.50505051,  0.60606061,  0.70707071,  0.80808081,  0.90909091,\n",
              "        1.01010101,  1.11111111,  1.21212121,  1.31313131,  1.41414141,\n",
              "        1.51515152,  1.61616162,  1.71717172,  1.81818182,  1.91919192,\n",
              "        2.02020202,  2.12121212,  2.22222222,  2.32323232,  2.42424242,\n",
              "        2.52525253,  2.62626263,  2.72727273,  2.82828283,  2.92929293,\n",
              "        3.03030303,  3.13131313,  3.23232323,  3.33333333,  3.43434343,\n",
              "        3.53535354,  3.63636364,  3.73737374,  3.83838384,  3.93939394,\n",
              "        4.04040404,  4.14141414,  4.24242424,  4.34343434,  4.44444444,\n",
              "        4.54545455,  4.64646465,  4.74747475,  4.84848485,  4.94949495,\n",
              "        5.05050505,  5.15151515,  5.25252525,  5.35353535,  5.45454545,\n",
              "        5.55555556,  5.65656566,  5.75757576,  5.85858586,  5.95959596,\n",
              "        6.06060606,  6.16161616,  6.26262626,  6.36363636,  6.46464646,\n",
              "        6.56565657,  6.66666667,  6.76767677,  6.86868687,  6.96969697,\n",
              "        7.07070707,  7.17171717,  7.27272727,  7.37373737,  7.47474747,\n",
              "        7.57575758,  7.67676768,  7.77777778,  7.87878788,  7.97979798,\n",
              "        8.08080808,  8.18181818,  8.28282828,  8.38383838,  8.48484848,\n",
              "        8.58585859,  8.68686869,  8.78787879,  8.88888889,  8.98989899,\n",
              "        9.09090909,  9.19191919,  9.29292929,  9.39393939,  9.49494949,\n",
              "        9.5959596 ,  9.6969697 ,  9.7979798 ,  9.8989899 , 10.        ])"
            ]
          },
          "metadata": {},
          "execution_count": 20
        }
      ],
      "source": [
        "np.linspace(0,10,100)"
      ]
    },
    {
      "cell_type": "code",
      "execution_count": null,
      "id": "5926b589",
      "metadata": {
        "colab": {
          "base_uri": "https://localhost:8080/"
        },
        "id": "5926b589",
        "outputId": "1ffe7ac3-c582-4934-f8af-2e51ae8c726d"
      },
      "outputs": [
        {
          "output_type": "execute_result",
          "data": {
            "text/plain": [
              "array([1000.        , 1041.66666667, 1083.33333333, 1125.        ,\n",
              "       1166.66666667, 1208.33333333, 1250.        , 1291.66666667,\n",
              "       1333.33333333, 1375.        , 1416.66666667, 1458.33333333,\n",
              "       1500.        , 1541.66666667, 1583.33333333, 1625.        ,\n",
              "       1666.66666667, 1708.33333333, 1750.        , 1791.66666667,\n",
              "       1833.33333333, 1875.        , 1916.66666667, 1958.33333333,\n",
              "       2000.        ])"
            ]
          },
          "metadata": {},
          "execution_count": 21
        }
      ],
      "source": [
        "np.linspace(1000,2000,25)"
      ]
    },
    {
      "cell_type": "code",
      "execution_count": null,
      "id": "8559351c",
      "metadata": {
        "colab": {
          "base_uri": "https://localhost:8080/"
        },
        "id": "8559351c",
        "outputId": "3965fa3c-842f-42f0-d9c9-f1cd10538796"
      },
      "outputs": [
        {
          "output_type": "execute_result",
          "data": {
            "text/plain": [
              "array([1.        , 1.02040816, 1.04081633, 1.06122449, 1.08163265,\n",
              "       1.10204082, 1.12244898, 1.14285714, 1.16326531, 1.18367347,\n",
              "       1.20408163, 1.2244898 , 1.24489796, 1.26530612, 1.28571429,\n",
              "       1.30612245, 1.32653061, 1.34693878, 1.36734694, 1.3877551 ,\n",
              "       1.40816327, 1.42857143, 1.44897959, 1.46938776, 1.48979592,\n",
              "       1.51020408, 1.53061224, 1.55102041, 1.57142857, 1.59183673,\n",
              "       1.6122449 , 1.63265306, 1.65306122, 1.67346939, 1.69387755,\n",
              "       1.71428571, 1.73469388, 1.75510204, 1.7755102 , 1.79591837,\n",
              "       1.81632653, 1.83673469, 1.85714286, 1.87755102, 1.89795918,\n",
              "       1.91836735, 1.93877551, 1.95918367, 1.97959184, 2.        ])"
            ]
          },
          "metadata": {},
          "execution_count": 22
        }
      ],
      "source": [
        "np.linspace(1,2,50)"
      ]
    },
    {
      "cell_type": "markdown",
      "source": [
        "Eye"
      ],
      "metadata": {
        "id": "ZMkbvw0A-xL0"
      },
      "id": "ZMkbvw0A-xL0"
    },
    {
      "cell_type": "code",
      "execution_count": null,
      "id": "72ad3b1b",
      "metadata": {
        "colab": {
          "base_uri": "https://localhost:8080/"
        },
        "id": "72ad3b1b",
        "outputId": "571684f6-e6eb-4332-fa70-2b931f54b91f"
      },
      "outputs": [
        {
          "output_type": "execute_result",
          "data": {
            "text/plain": [
              "array([[1., 0., 0., 0.],\n",
              "       [0., 1., 0., 0.],\n",
              "       [0., 0., 1., 0.],\n",
              "       [0., 0., 0., 1.]])"
            ]
          },
          "metadata": {},
          "execution_count": 24
        }
      ],
      "source": [
        "np.eye(4)  # to create identity matrix"
      ]
    },
    {
      "cell_type": "markdown",
      "source": [
        "random with default range:(0,1)"
      ],
      "metadata": {
        "id": "ajzF5cfI-z0f"
      },
      "id": "ajzF5cfI-z0f"
    },
    {
      "cell_type": "code",
      "execution_count": null,
      "id": "ae2a40ff",
      "metadata": {
        "colab": {
          "base_uri": "https://localhost:8080/"
        },
        "id": "ae2a40ff",
        "outputId": "99de921e-c966-469c-e673-9ed04aeaf74f"
      },
      "outputs": [
        {
          "output_type": "execute_result",
          "data": {
            "text/plain": [
              "array([0.52036335, 0.98173768, 0.26696394, 0.73904633, 0.44466291])"
            ]
          },
          "metadata": {},
          "execution_count": 26
        }
      ],
      "source": [
        "np.random.rand(5)"
      ]
    },
    {
      "cell_type": "code",
      "execution_count": null,
      "id": "fe4c0ec4",
      "metadata": {
        "colab": {
          "base_uri": "https://localhost:8080/"
        },
        "id": "fe4c0ec4",
        "outputId": "ff4ce121-9b7f-4aea-8347-00663786dba0"
      },
      "outputs": [
        {
          "output_type": "execute_result",
          "data": {
            "text/plain": [
              "array([[0.76418428, 0.25845754, 0.81852584, 0.63982523, 0.82076707],\n",
              "       [0.08876785, 0.52819229, 0.48340713, 0.62292254, 0.49404931],\n",
              "       [0.2803883 , 0.36049841, 0.08382125, 0.51455482, 0.49539742],\n",
              "       [0.11425283, 0.02766034, 0.46435352, 0.79212741, 0.02956481],\n",
              "       [0.99424852, 0.6805574 , 0.0964284 , 0.63848123, 0.00797071]])"
            ]
          },
          "metadata": {},
          "execution_count": 27
        }
      ],
      "source": [
        "np.random.rand(5,5)"
      ]
    },
    {
      "cell_type": "code",
      "execution_count": null,
      "id": "43e9b7b5",
      "metadata": {
        "colab": {
          "base_uri": "https://localhost:8080/"
        },
        "id": "43e9b7b5",
        "outputId": "b18b09cc-301e-4393-f463-aaa913554075"
      },
      "outputs": [
        {
          "output_type": "execute_result",
          "data": {
            "text/plain": [
              "array([-1.31297284,  0.12833727, -0.78154532, -0.93541579])"
            ]
          },
          "metadata": {},
          "execution_count": 29
        }
      ],
      "source": [
        "# randn to generate samples following normal distribution\n",
        "np.random.randn(4)"
      ]
    },
    {
      "cell_type": "code",
      "execution_count": null,
      "id": "3d816687",
      "metadata": {
        "colab": {
          "base_uri": "https://localhost:8080/"
        },
        "id": "3d816687",
        "outputId": "294195e1-b7aa-43ea-9ae3-131d3bcd3fec"
      },
      "outputs": [
        {
          "output_type": "execute_result",
          "data": {
            "text/plain": [
              "3"
            ]
          },
          "metadata": {},
          "execution_count": 31
        }
      ],
      "source": [
        "# randint to generate random integers in a given range\n",
        "np.random.randint(3,6)"
      ]
    },
    {
      "cell_type": "code",
      "execution_count": null,
      "id": "a209ea69",
      "metadata": {
        "colab": {
          "base_uri": "https://localhost:8080/"
        },
        "id": "a209ea69",
        "outputId": "ea262528-8e75-484b-f7cd-c992ac062be3"
      },
      "outputs": [
        {
          "output_type": "execute_result",
          "data": {
            "text/plain": [
              "array([2, 2, 2, 2, 2])"
            ]
          },
          "metadata": {},
          "execution_count": 32
        }
      ],
      "source": [
        "np.random.randint(1,3,5) # includes value from 1 and 2"
      ]
    },
    {
      "cell_type": "code",
      "execution_count": null,
      "id": "85b8c283",
      "metadata": {
        "colab": {
          "base_uri": "https://localhost:8080/"
        },
        "id": "85b8c283",
        "outputId": "361a915c-e517-43b4-c9f5-5501a9b58137"
      },
      "outputs": [
        {
          "output_type": "execute_result",
          "data": {
            "text/plain": [
              "19"
            ]
          },
          "metadata": {},
          "execution_count": 33
        }
      ],
      "source": [
        "np.random.randint(10,25)"
      ]
    },
    {
      "cell_type": "code",
      "execution_count": null,
      "id": "80733259",
      "metadata": {
        "colab": {
          "base_uri": "https://localhost:8080/"
        },
        "id": "80733259",
        "outputId": "d0467ad2-c96f-490b-8b32-6e113e7bd711"
      },
      "outputs": [
        {
          "output_type": "execute_result",
          "data": {
            "text/plain": [
              "array([8, 8, 5])"
            ]
          },
          "metadata": {},
          "execution_count": 34
        }
      ],
      "source": [
        "np.random.randint(1,10,3)"
      ]
    },
    {
      "cell_type": "markdown",
      "source": [
        "Reshape"
      ],
      "metadata": {
        "id": "PlsYAvqu--Ue"
      },
      "id": "PlsYAvqu--Ue"
    },
    {
      "cell_type": "code",
      "execution_count": null,
      "id": "795096a7",
      "metadata": {
        "colab": {
          "base_uri": "https://localhost:8080/"
        },
        "id": "795096a7",
        "outputId": "d314a44c-9470-44c9-df02-9eb746597773"
      },
      "outputs": [
        {
          "output_type": "execute_result",
          "data": {
            "text/plain": [
              "(10,)"
            ]
          },
          "metadata": {},
          "execution_count": 36
        }
      ],
      "source": [
        "arr = np.array([1,2,3,4,5,6,7,8,9,10])\n",
        "arr.shape"
      ]
    },
    {
      "cell_type": "code",
      "execution_count": null,
      "id": "950f8f43",
      "metadata": {
        "colab": {
          "base_uri": "https://localhost:8080/"
        },
        "id": "950f8f43",
        "outputId": "60c63ba2-69ff-4c8b-c1a4-ed5d487f1378"
      },
      "outputs": [
        {
          "output_type": "execute_result",
          "data": {
            "text/plain": [
              "array([[ 1,  2],\n",
              "       [ 3,  4],\n",
              "       [ 5,  6],\n",
              "       [ 7,  8],\n",
              "       [ 9, 10]])"
            ]
          },
          "metadata": {},
          "execution_count": 37
        }
      ],
      "source": [
        "arr.reshape(5,2)"
      ]
    },
    {
      "cell_type": "code",
      "execution_count": null,
      "id": "aaad3acf",
      "metadata": {
        "colab": {
          "base_uri": "https://localhost:8080/"
        },
        "id": "aaad3acf",
        "outputId": "80d043e1-0478-4f1c-92d1-7d17db614090"
      },
      "outputs": [
        {
          "output_type": "execute_result",
          "data": {
            "text/plain": [
              "array([[ 1,  2,  3,  4,  5],\n",
              "       [ 6,  7,  8,  9, 10]])"
            ]
          },
          "metadata": {},
          "execution_count": 38
        }
      ],
      "source": [
        "arr.reshape(2,5)"
      ]
    },
    {
      "cell_type": "markdown",
      "source": [
        "Q. Create an array with 20 elements populate your array in such a way that your elements should be between 200 and 500\n",
        "print the dimension of the created array using appropriate array\n",
        "print all the possiiblities of the created array with various dimensions\n"
      ],
      "metadata": {
        "id": "Cke4k0qP_Cp-"
      },
      "id": "Cke4k0qP_Cp-"
    },
    {
      "cell_type": "code",
      "execution_count": null,
      "id": "109e0c84",
      "metadata": {
        "colab": {
          "base_uri": "https://localhost:8080/"
        },
        "id": "109e0c84",
        "outputId": "d40a2288-4af9-47c6-cc69-901c347b7c17"
      },
      "outputs": [
        {
          "output_type": "execute_result",
          "data": {
            "text/plain": [
              "(20,)"
            ]
          },
          "metadata": {},
          "execution_count": 40
        }
      ],
      "source": [
        "arr = np.random.randint(200,500,20)\n",
        "arr.shape"
      ]
    },
    {
      "cell_type": "code",
      "execution_count": null,
      "id": "e36dd215",
      "metadata": {
        "colab": {
          "base_uri": "https://localhost:8080/"
        },
        "id": "e36dd215",
        "outputId": "c2ad9a2e-de93-44c8-954f-14da18b2a483"
      },
      "outputs": [
        {
          "output_type": "execute_result",
          "data": {
            "text/plain": [
              "array([[441, 391],\n",
              "       [418, 240],\n",
              "       [370, 210],\n",
              "       [483, 340],\n",
              "       [486, 321],\n",
              "       [297, 247],\n",
              "       [441, 497],\n",
              "       [497, 346],\n",
              "       [438, 234],\n",
              "       [346, 336]])"
            ]
          },
          "metadata": {},
          "execution_count": 41
        }
      ],
      "source": [
        "arr.reshape(10,2)"
      ]
    },
    {
      "cell_type": "code",
      "execution_count": null,
      "id": "74f2afc7",
      "metadata": {
        "colab": {
          "base_uri": "https://localhost:8080/"
        },
        "id": "74f2afc7",
        "outputId": "1764c0c9-a728-41b0-c926-7ad43f259c9c"
      },
      "outputs": [
        {
          "output_type": "execute_result",
          "data": {
            "text/plain": [
              "array([[441, 391, 418, 240, 370, 210, 483, 340, 486, 321],\n",
              "       [297, 247, 441, 497, 497, 346, 438, 234, 346, 336]])"
            ]
          },
          "metadata": {},
          "execution_count": 42
        }
      ],
      "source": [
        "arr.reshape(2,10)"
      ]
    },
    {
      "cell_type": "code",
      "execution_count": null,
      "id": "e0fd4ee3",
      "metadata": {
        "colab": {
          "base_uri": "https://localhost:8080/"
        },
        "id": "e0fd4ee3",
        "outputId": "bf9bf281-f632-4cd4-fe36-f486d5612be1"
      },
      "outputs": [
        {
          "output_type": "execute_result",
          "data": {
            "text/plain": [
              "array([[441, 391, 418, 240],\n",
              "       [370, 210, 483, 340],\n",
              "       [486, 321, 297, 247],\n",
              "       [441, 497, 497, 346],\n",
              "       [438, 234, 346, 336]])"
            ]
          },
          "metadata": {},
          "execution_count": 43
        }
      ],
      "source": [
        "arr.reshape(5,4)"
      ]
    },
    {
      "cell_type": "code",
      "execution_count": null,
      "id": "d8bf0544",
      "metadata": {
        "colab": {
          "base_uri": "https://localhost:8080/"
        },
        "id": "d8bf0544",
        "outputId": "0f08748a-65a8-4211-d941-7a05b7ce612b"
      },
      "outputs": [
        {
          "output_type": "execute_result",
          "data": {
            "text/plain": [
              "array([[441, 391, 418, 240, 370],\n",
              "       [210, 483, 340, 486, 321],\n",
              "       [297, 247, 441, 497, 497],\n",
              "       [346, 438, 234, 346, 336]])"
            ]
          },
          "metadata": {},
          "execution_count": 44
        }
      ],
      "source": [
        "arr.reshape(4,5)"
      ]
    },
    {
      "cell_type": "code",
      "execution_count": null,
      "id": "9ce814af",
      "metadata": {
        "colab": {
          "base_uri": "https://localhost:8080/"
        },
        "id": "9ce814af",
        "outputId": "494ac897-0949-42a1-c36a-b2577e7e5c5a"
      },
      "outputs": [
        {
          "output_type": "execute_result",
          "data": {
            "text/plain": [
              "array([[441, 391, 418, 240, 370, 210, 483, 340, 486, 321, 297, 247, 441,\n",
              "        497, 497, 346, 438, 234, 346, 336]])"
            ]
          },
          "metadata": {},
          "execution_count": 45
        }
      ],
      "source": [
        "arr.reshape(1,20)"
      ]
    },
    {
      "cell_type": "code",
      "execution_count": null,
      "id": "0bea8dde",
      "metadata": {
        "colab": {
          "base_uri": "https://localhost:8080/"
        },
        "id": "0bea8dde",
        "outputId": "a7572be5-321a-4366-bac0-f899d6889df1"
      },
      "outputs": [
        {
          "output_type": "execute_result",
          "data": {
            "text/plain": [
              "array([[441],\n",
              "       [391],\n",
              "       [418],\n",
              "       [240],\n",
              "       [370],\n",
              "       [210],\n",
              "       [483],\n",
              "       [340],\n",
              "       [486],\n",
              "       [321],\n",
              "       [297],\n",
              "       [247],\n",
              "       [441],\n",
              "       [497],\n",
              "       [497],\n",
              "       [346],\n",
              "       [438],\n",
              "       [234],\n",
              "       [346],\n",
              "       [336]])"
            ]
          },
          "metadata": {},
          "execution_count": 46
        }
      ],
      "source": [
        "arr.reshape(20,1)"
      ]
    },
    {
      "cell_type": "code",
      "execution_count": null,
      "id": "2b232b48",
      "metadata": {
        "colab": {
          "base_uri": "https://localhost:8080/"
        },
        "id": "2b232b48",
        "outputId": "07b7089d-cf43-4f8a-ca09-73dd1245a532"
      },
      "outputs": [
        {
          "output_type": "execute_result",
          "data": {
            "text/plain": [
              "497"
            ]
          },
          "metadata": {},
          "execution_count": 47
        }
      ],
      "source": [
        "arr.max()"
      ]
    },
    {
      "cell_type": "code",
      "execution_count": null,
      "id": "b641840c",
      "metadata": {
        "colab": {
          "base_uri": "https://localhost:8080/"
        },
        "id": "b641840c",
        "outputId": "f06d08bd-baf5-4c97-dbab-9989ce9f4aaa"
      },
      "outputs": [
        {
          "output_type": "execute_result",
          "data": {
            "text/plain": [
              "210"
            ]
          },
          "metadata": {},
          "execution_count": 48
        }
      ],
      "source": [
        "arr.min()"
      ]
    },
    {
      "cell_type": "code",
      "execution_count": null,
      "id": "116cf4f6",
      "metadata": {
        "colab": {
          "base_uri": "https://localhost:8080/"
        },
        "id": "116cf4f6",
        "outputId": "1bf4cb81-afe2-4f53-ac96-31b9cbb852fb"
      },
      "outputs": [
        {
          "output_type": "execute_result",
          "data": {
            "text/plain": [
              "dtype('int64')"
            ]
          },
          "metadata": {},
          "execution_count": 49
        }
      ],
      "source": [
        "arr.dtype"
      ]
    },
    {
      "cell_type": "markdown",
      "source": [
        "Indexing and Selection"
      ],
      "metadata": {
        "id": "voTH3KN_B06j"
      },
      "id": "voTH3KN_B06j"
    },
    {
      "cell_type": "code",
      "execution_count": null,
      "id": "d366e6ff",
      "metadata": {
        "colab": {
          "base_uri": "https://localhost:8080/"
        },
        "id": "d366e6ff",
        "outputId": "a9d0a9df-64df-4d15-d81d-4e1678bcf800"
      },
      "outputs": [
        {
          "output_type": "execute_result",
          "data": {
            "text/plain": [
              "418"
            ]
          },
          "metadata": {},
          "execution_count": 51
        }
      ],
      "source": [
        "arr[2]"
      ]
    },
    {
      "cell_type": "code",
      "execution_count": null,
      "id": "56a1c9d6",
      "metadata": {
        "colab": {
          "base_uri": "https://localhost:8080/"
        },
        "id": "56a1c9d6",
        "outputId": "d4bf6bf3-2adc-4f05-a4c0-86e16c8313c5"
      },
      "outputs": [
        {
          "output_type": "execute_result",
          "data": {
            "text/plain": [
              "array([240, 370, 210, 483, 340, 486, 321, 297, 247, 441, 497, 497])"
            ]
          },
          "metadata": {},
          "execution_count": 52
        }
      ],
      "source": [
        "arr[3:15]"
      ]
    },
    {
      "cell_type": "code",
      "execution_count": null,
      "id": "facbecef",
      "metadata": {
        "colab": {
          "base_uri": "https://localhost:8080/"
        },
        "id": "facbecef",
        "outputId": "823532e2-abda-4b35-e57c-fb30c49eb0e4"
      },
      "outputs": [
        {
          "output_type": "execute_result",
          "data": {
            "text/plain": [
              "array([441, 391, 418, 240])"
            ]
          },
          "metadata": {},
          "execution_count": 53
        }
      ],
      "source": [
        "arr[:4] #(0 to 4)"
      ]
    },
    {
      "cell_type": "code",
      "execution_count": null,
      "id": "8b491cf5",
      "metadata": {
        "colab": {
          "base_uri": "https://localhost:8080/"
        },
        "id": "8b491cf5",
        "outputId": "43ef443d-e6d9-47a7-df05-2204dfe90acf"
      },
      "outputs": [
        {
          "output_type": "execute_result",
          "data": {
            "text/plain": [
              "array([297, 247, 441, 497, 497, 346, 438, 234, 346, 336])"
            ]
          },
          "metadata": {},
          "execution_count": 54
        }
      ],
      "source": [
        "arr[10:] #(10 to end)"
      ]
    },
    {
      "cell_type": "markdown",
      "source": [
        "Broadcasting"
      ],
      "metadata": {
        "id": "0ymKQG-8_IRB"
      },
      "id": "0ymKQG-8_IRB"
    },
    {
      "cell_type": "code",
      "execution_count": null,
      "id": "4e6009ff",
      "metadata": {
        "colab": {
          "base_uri": "https://localhost:8080/"
        },
        "id": "4e6009ff",
        "outputId": "bac068cf-39ad-4901-a635-004b190a7bce"
      },
      "outputs": [
        {
          "output_type": "execute_result",
          "data": {
            "text/plain": [
              "array([10, 20, 40])"
            ]
          },
          "metadata": {},
          "execution_count": 56
        }
      ],
      "source": [
        "#since a and a*b is similar array..broadcasting helps in multiplication as memory is saved\n",
        "a = np.array([5,10,20])\n",
        "b = 2\n",
        "a*b"
      ]
    },
    {
      "cell_type": "code",
      "execution_count": null,
      "id": "3cf469d1",
      "metadata": {
        "colab": {
          "base_uri": "https://localhost:8080/"
        },
        "id": "3cf469d1",
        "outputId": "c740b541-f83c-4ed3-984a-75596a65d277"
      },
      "outputs": [
        {
          "output_type": "execute_result",
          "data": {
            "text/plain": [
              "array([100, 100, 100, 100, 100, 210, 483, 340, 486, 321, 297, 247, 441,\n",
              "       497, 497, 346, 438, 234, 346, 336])"
            ]
          },
          "metadata": {},
          "execution_count": 57
        }
      ],
      "source": [
        "arr[0:5] = 100\n",
        "arr"
      ]
    },
    {
      "cell_type": "markdown",
      "source": [
        "Selection"
      ],
      "metadata": {
        "id": "ayL2LGYlC5K0"
      },
      "id": "ayL2LGYlC5K0"
    },
    {
      "cell_type": "code",
      "execution_count": null,
      "id": "f1fee5cd",
      "metadata": {
        "colab": {
          "base_uri": "https://localhost:8080/"
        },
        "id": "f1fee5cd",
        "outputId": "9b74fa07-9c67-42a7-e6d0-958569b23cf6"
      },
      "outputs": [
        {
          "output_type": "execute_result",
          "data": {
            "text/plain": [
              "array([False, False, False, False, False, False,  True, False,  True,\n",
              "       False, False, False,  True,  True,  True, False,  True, False,\n",
              "       False, False])"
            ]
          },
          "metadata": {},
          "execution_count": 58
        }
      ],
      "source": [
        "arr>350"
      ]
    },
    {
      "cell_type": "code",
      "source": [
        "bool_arr = arr>122\n",
        "bool_arr"
      ],
      "metadata": {
        "colab": {
          "base_uri": "https://localhost:8080/"
        },
        "id": "zyEtKr63C7EN",
        "outputId": "0e0409f9-7ca0-431d-931a-56bd3b4728e0"
      },
      "id": "zyEtKr63C7EN",
      "execution_count": null,
      "outputs": [
        {
          "output_type": "execute_result",
          "data": {
            "text/plain": [
              "array([False, False, False, False, False,  True,  True,  True,  True,\n",
              "        True,  True,  True,  True,  True,  True,  True,  True,  True,\n",
              "        True,  True])"
            ]
          },
          "metadata": {},
          "execution_count": 83
        }
      ]
    },
    {
      "cell_type": "code",
      "source": [
        "arr[arr>177]"
      ],
      "metadata": {
        "colab": {
          "base_uri": "https://localhost:8080/"
        },
        "id": "8lLk2hriDQv8",
        "outputId": "bf9b92dd-71a1-4eef-f51a-37a039c2b941"
      },
      "id": "8lLk2hriDQv8",
      "execution_count": null,
      "outputs": [
        {
          "output_type": "execute_result",
          "data": {
            "text/plain": [
              "array([210, 483, 340, 486, 321, 297, 247, 441, 497, 497, 346, 438, 234,\n",
              "       346, 336])"
            ]
          },
          "metadata": {},
          "execution_count": 84
        }
      ]
    },
    {
      "cell_type": "markdown",
      "source": [
        "Min max"
      ],
      "metadata": {
        "id": "MjNTPf2ADVmO"
      },
      "id": "MjNTPf2ADVmO"
    },
    {
      "cell_type": "code",
      "execution_count": null,
      "id": "8afb7f7f",
      "metadata": {
        "colab": {
          "base_uri": "https://localhost:8080/"
        },
        "id": "8afb7f7f",
        "outputId": "1752e7a5-4c50-4e9f-8513-010fe3ac8a14"
      },
      "outputs": [
        {
          "output_type": "execute_result",
          "data": {
            "text/plain": [
              "13"
            ]
          },
          "metadata": {},
          "execution_count": 59
        }
      ],
      "source": [
        "arr.argmax()"
      ]
    },
    {
      "cell_type": "code",
      "source": [
        "arr.argmin()"
      ],
      "metadata": {
        "colab": {
          "base_uri": "https://localhost:8080/"
        },
        "id": "KZ8swRhaA_jo",
        "outputId": "50f6f965-009d-42a6-9df3-dea8d09d58ee"
      },
      "id": "KZ8swRhaA_jo",
      "execution_count": null,
      "outputs": [
        {
          "output_type": "execute_result",
          "data": {
            "text/plain": [
              "0"
            ]
          },
          "metadata": {},
          "execution_count": 60
        }
      ]
    },
    {
      "cell_type": "code",
      "source": [
        "arr.dtype"
      ],
      "metadata": {
        "colab": {
          "base_uri": "https://localhost:8080/"
        },
        "id": "BamgEqNnBOSe",
        "outputId": "e7f02bc7-638e-4507-8670-195b4d2e9d5d"
      },
      "id": "BamgEqNnBOSe",
      "execution_count": null,
      "outputs": [
        {
          "output_type": "execute_result",
          "data": {
            "text/plain": [
              "dtype('int64')"
            ]
          },
          "metadata": {},
          "execution_count": 61
        }
      ]
    },
    {
      "cell_type": "markdown",
      "source": [
        "Indexing in 2D array"
      ],
      "metadata": {
        "id": "-j0HlBr7CMYo"
      },
      "id": "-j0HlBr7CMYo"
    },
    {
      "cell_type": "code",
      "source": [
        "a2d = np.array(([2,4,8],[10,12,14],[16,18,20]))\n",
        "a2d.shape"
      ],
      "metadata": {
        "colab": {
          "base_uri": "https://localhost:8080/"
        },
        "id": "Qy2tk9LlBkmD",
        "outputId": "2c629a79-2be6-46f1-eb33-c2f50413f1f5"
      },
      "id": "Qy2tk9LlBkmD",
      "execution_count": null,
      "outputs": [
        {
          "output_type": "execute_result",
          "data": {
            "text/plain": [
              "(3, 3)"
            ]
          },
          "metadata": {},
          "execution_count": 74
        }
      ]
    },
    {
      "cell_type": "code",
      "source": [
        "a2d"
      ],
      "metadata": {
        "colab": {
          "base_uri": "https://localhost:8080/"
        },
        "id": "CpXXa7j9CLWl",
        "outputId": "6d314d52-c241-4fc2-dd61-a90731ae7b13"
      },
      "id": "CpXXa7j9CLWl",
      "execution_count": null,
      "outputs": [
        {
          "output_type": "execute_result",
          "data": {
            "text/plain": [
              "array([[ 2,  4,  8],\n",
              "       [10, 12, 14],\n",
              "       [16, 18, 20]])"
            ]
          },
          "metadata": {},
          "execution_count": 75
        }
      ]
    },
    {
      "cell_type": "code",
      "source": [
        "a2d[0]"
      ],
      "metadata": {
        "colab": {
          "base_uri": "https://localhost:8080/"
        },
        "id": "YlK4w7JTCPu6",
        "outputId": "b0a9e235-0fa7-4be7-a1ed-ddf7bd2e4112"
      },
      "id": "YlK4w7JTCPu6",
      "execution_count": null,
      "outputs": [
        {
          "output_type": "execute_result",
          "data": {
            "text/plain": [
              "array([2, 4, 8])"
            ]
          },
          "metadata": {},
          "execution_count": 76
        }
      ]
    },
    {
      "cell_type": "code",
      "source": [
        "a2d[1][1]"
      ],
      "metadata": {
        "colab": {
          "base_uri": "https://localhost:8080/"
        },
        "id": "3xXEtEnlCQ4f",
        "outputId": "26a43bee-cfa1-4b50-87b2-161548a182b5"
      },
      "id": "3xXEtEnlCQ4f",
      "execution_count": null,
      "outputs": [
        {
          "output_type": "execute_result",
          "data": {
            "text/plain": [
              "12"
            ]
          },
          "metadata": {},
          "execution_count": 77
        }
      ]
    },
    {
      "cell_type": "code",
      "source": [
        "a2d[1,2]"
      ],
      "metadata": {
        "colab": {
          "base_uri": "https://localhost:8080/"
        },
        "id": "ZgexZpiICTPj",
        "outputId": "5a38f620-41a9-4f7e-aac7-3d88db7f6976"
      },
      "id": "ZgexZpiICTPj",
      "execution_count": null,
      "outputs": [
        {
          "output_type": "execute_result",
          "data": {
            "text/plain": [
              "14"
            ]
          },
          "metadata": {},
          "execution_count": 78
        }
      ]
    },
    {
      "cell_type": "code",
      "source": [
        "#Shape (2,2) from top right corner\n",
        "a2d[:2,1:]\n",
        "#[row,col]"
      ],
      "metadata": {
        "colab": {
          "base_uri": "https://localhost:8080/"
        },
        "id": "Ja0igJiNCVkw",
        "outputId": "a55b2637-0660-49bb-d38f-f76dc12acc5a"
      },
      "id": "Ja0igJiNCVkw",
      "execution_count": null,
      "outputs": [
        {
          "output_type": "execute_result",
          "data": {
            "text/plain": [
              "array([[ 4,  8],\n",
              "       [12, 14]])"
            ]
          },
          "metadata": {},
          "execution_count": 80
        }
      ]
    },
    {
      "cell_type": "code",
      "source": [
        "#to print all the columns of the first row - row 0\n",
        "a2d[0:1,:]"
      ],
      "metadata": {
        "colab": {
          "base_uri": "https://localhost:8080/"
        },
        "id": "RZmZXobPCfhC",
        "outputId": "a7380f52-10c3-4396-effc-404858a9eb35"
      },
      "id": "RZmZXobPCfhC",
      "execution_count": null,
      "outputs": [
        {
          "output_type": "execute_result",
          "data": {
            "text/plain": [
              "array([[2, 4, 8]])"
            ]
          },
          "metadata": {},
          "execution_count": 81
        }
      ]
    },
    {
      "cell_type": "code",
      "source": [],
      "metadata": {
        "id": "JAYo9fYACtPx"
      },
      "id": "JAYo9fYACtPx",
      "execution_count": null,
      "outputs": []
    }
  ],
  "metadata": {
    "kernelspec": {
      "display_name": "Python 3 (ipykernel)",
      "language": "python",
      "name": "python3"
    },
    "language_info": {
      "codemirror_mode": {
        "name": "ipython",
        "version": 3
      },
      "file_extension": ".py",
      "mimetype": "text/x-python",
      "name": "python",
      "nbconvert_exporter": "python",
      "pygments_lexer": "ipython3",
      "version": "3.9.12"
    },
    "colab": {
      "provenance": []
    }
  },
  "nbformat": 4,
  "nbformat_minor": 5
}